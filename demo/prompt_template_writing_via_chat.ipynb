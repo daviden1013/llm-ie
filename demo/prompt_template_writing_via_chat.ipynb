{
 "cells": [
  {
   "cell_type": "markdown",
   "metadata": {},
   "source": [
    "# Prompt Template Writing with AI Editors via interactive chats\n",
    "\n",
    "In this demo, we interact with the LLM prompt editor to write a prompt template. We use the prompt template for diagnosis and diagnosis attributes (date, status) frame extraction. "
   ]
  },
  {
   "cell_type": "code",
   "execution_count": 1,
   "metadata": {},
   "outputs": [],
   "source": [
    "from llm_ie.engines import OllamaInferenceEngine\n",
    "from llm_ie.extractors import SentenceFrameExtractor\n",
    "from llm_ie.prompt_editor import PromptEditor"
   ]
  },
  {
   "cell_type": "markdown",
   "metadata": {},
   "source": [
    "We start with defining a LLM inference engine and LLM. In this demo, we use Ollama to run Llama 3.1 70B."
   ]
  },
  {
   "cell_type": "code",
   "execution_count": 5,
   "metadata": {},
   "outputs": [],
   "source": [
    "# Define a LLM inference engine\n",
    "llm = OllamaInferenceEngine(model_name=\"llama3.3:70b-instruct-q8_0\", num_ctx=16000, keep_alive=3600)"
   ]
  },
  {
   "cell_type": "markdown",
   "metadata": {},
   "source": [
    "Define LLM-based editor and start a chat session"
   ]
  },
  {
   "cell_type": "code",
   "execution_count": 6,
   "metadata": {},
   "outputs": [
    {
     "data": {
      "application/vnd.jupyter.widget-view+json": {
       "model_id": "1ec13498bd4a4a6ca90c9f3d6cd9b8d4",
       "version_major": 2,
       "version_minor": 0
      },
      "text/plain": [
       "Text(value='', placeholder='Type your message here...')"
      ]
     },
     "metadata": {},
     "output_type": "display_data"
    },
    {
     "data": {
      "application/vnd.jupyter.widget-view+json": {
       "model_id": "9d8bddc2fad745b4aec44d23ea1aaac3",
       "version_major": 2,
       "version_minor": 0
      },
      "text/plain": [
       "Output()"
      ]
     },
     "metadata": {},
     "output_type": "display_data"
    }
   ],
   "source": [
    "editor = PromptEditor(llm, SentenceFrameExtractor)\n",
    "editor.chat()"
   ]
  }
 ],
 "metadata": {
  "kernelspec": {
   "display_name": "NLP",
   "language": "python",
   "name": "python3"
  },
  "language_info": {
   "codemirror_mode": {
    "name": "ipython",
    "version": 3
   },
   "file_extension": ".py",
   "mimetype": "text/x-python",
   "name": "python",
   "nbconvert_exporter": "python",
   "pygments_lexer": "ipython3",
   "version": "3.11.8"
  }
 },
 "nbformat": 4,
 "nbformat_minor": 2
}
